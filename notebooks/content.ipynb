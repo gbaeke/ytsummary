{
 "cells": [
  {
   "cell_type": "code",
   "execution_count": 15,
   "metadata": {},
   "outputs": [
    {
     "name": "stdout",
     "output_type": "stream",
     "text": [
      "Hate severity: 0\n",
      "SelfHarm severity: 0\n",
      "Sexual severity: 0\n",
      "Violence severity: 0\n"
     ]
    }
   ],
   "source": [
    "import os\n",
    "from azure.ai.contentsafety import ContentSafetyClient\n",
    "from azure.core.credentials import AzureKeyCredential\n",
    "from azure.ai.contentsafety.models import AnalyzeTextOptions, TextCategory\n",
    "\n",
    "\n",
    "def analyze_text():\n",
    "    endpoint = \"https://ENDPOINT.cognitiveservices.azure.com/\"\n",
    "    key = \"your key\"\n",
    "\n",
    "    # Create an Content Safety client\n",
    "    client = ContentSafetyClient(endpoint, AzureKeyCredential(key))\n",
    "\n",
    "    # Build request\n",
    "    request = AnalyzeTextOptions(text=\"text to analyze\")\n",
    "\n",
    "    # Analyze text\n",
    "    try:\n",
    "        response = client.analyze_text(request)\n",
    "    except Exception as e:\n",
    "        print(\"Error code: {}\".format(e.__class__.__name__))\n",
    "        print(\"Error message: {}\".format(str(e)))\n",
    "        return\n",
    "\n",
    "    if response.hate_result is not None:\n",
    "        print(\"Hate severity: {}\".format(response.hate_result.severity))\n",
    "    if response.self_harm_result is not None:\n",
    "        print(\"SelfHarm severity: {}\".format(response.self_harm_result.severity))\n",
    "    if response.sexual_result is not None:\n",
    "        print(\"Sexual severity: {}\".format(response.self_harm_result.severity))\n",
    "    if response.violence_result is not None:\n",
    "        print(\"Violence severity: {}\".format(response.self_harm_result.severity))\n",
    "\n",
    "\n",
    "if __name__ == \"__main__\":\n",
    "    analyze_text()"
   ]
  }
 ],
 "metadata": {
  "kernelspec": {
   "display_name": "Python 3",
   "language": "python",
   "name": "python3"
  },
  "language_info": {
   "codemirror_mode": {
    "name": "ipython",
    "version": 3
   },
   "file_extension": ".py",
   "mimetype": "text/x-python",
   "name": "python",
   "nbconvert_exporter": "python",
   "pygments_lexer": "ipython3",
   "version": "3.11.2"
  },
  "orig_nbformat": 4
 },
 "nbformat": 4,
 "nbformat_minor": 2
}
